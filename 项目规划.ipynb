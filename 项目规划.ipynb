{
 "cells": [
  {
   "cell_type": "markdown",
   "metadata": {},
   "source": [
    "# 项目标识\n",
    "项目名称：量化投资\n",
    "英文名：Quantified Investment\n",
    "简称: QI\n",
    "# 项目范围和章程\n",
    "## 背景\n",
    "将富余资金（收入-支出）按一定比例进行划分，分别进行不同风险等级的投资，形成投资组合  \n",
    "对于风险项目，采用量化投资的方式进行分析，建立模型进行投资，获取收益\n",
    "### 投资组合\n",
    "投资组合是由投资人或金融机构所持有的股票、债券、金融衍生产品等组成的集合  \n",
    "目的是分散风险  \n",
    "第一个层面组合，由于安全性与收益性的双重需要,考虑风险资产与无风险资产的组合，为了安全性需要组合无风险资产，为了收益性需要组合风险资产  \n",
    "第二个层面组合，考虑如何组合风险资产，由于任意两个相关性较差或负相关的资产组合，得到的风险回报都会大于单独资产的风险回报，因此不断组合相关性  较差的资产，可以使得组合的有效前沿远离风险  \n",
    "\n",
    "\n",
    "## 工程范围"
   ]
  }
 ],
 "metadata": {
  "kernelspec": {
   "display_name": "Python 3",
   "language": "python",
   "name": "python3"
  },
  "language_info": {
   "codemirror_mode": {
    "name": "ipython",
    "version": 3
   },
   "file_extension": ".py",
   "mimetype": "text/x-python",
   "name": "python",
   "nbconvert_exporter": "python",
   "pygments_lexer": "ipython3",
   "version": "3.7.6"
  }
 },
 "nbformat": 4,
 "nbformat_minor": 2
}
