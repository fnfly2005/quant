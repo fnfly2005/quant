{
 "cells": [
  {
   "cell_type": "markdown",
   "metadata": {},
   "source": [
    "# 项目标识\n",
    "项目名称：量化投资\n",
    "英文名：Quantified Investment\n",
    "简称: QI\n",
    "# 项目范围和章程\n",
    "## 背景\n",
    "利用闲置资金，通过投资的方式获取收益，从而抵御通胀  \n",
    "### 资金池\n",
    "通过支持、收入两条线的规划来平衡资金池安全\n",
    "### 投资组合\n",
    "投资组合是由投资人或金融机构所持有的股票、债券、金融衍生产品等组成的集合  \n",
    "目的是分散风险  \n",
    "第一个层面组合，由于安全性与收益性的双重需要,考虑风险资产与无风险资产的组合，为了安全性需要组合无风险资产，为了收益性需要组合风险资产  \n",
    "第二个层面组合，考虑如何组合风险资产，由于任意两个相关性较差或负相关的资产组合，得到的风险回报都会大于单独资产的风险回报，因此不断组合相关性  较差的资产，可以使得组合的有效前沿远离风险  \n",
    "### 量化投资\n",
    "对投资项目进行风险分析，建立概率模型进行投资，获取收益\n",
    "\n",
    "## 工程范围\n",
    "本阶段主要关注量化投资"
   ]
  }
 ],
 "metadata": {
  "kernelspec": {
   "display_name": "Python 3",
   "language": "python",
   "name": "python3"
  },
  "language_info": {
   "codemirror_mode": {
    "name": "ipython",
    "version": 3
   },
   "file_extension": ".py",
   "mimetype": "text/x-python",
   "name": "python",
   "nbconvert_exporter": "python",
   "pygments_lexer": "ipython3",
   "version": "3.7.6"
  },
  "toc": {
   "base_numbering": 1,
   "nav_menu": {},
   "number_sections": false,
   "sideBar": true,
   "skip_h1_title": false,
   "title_cell": "Table of Contents",
   "title_sidebar": "Contents",
   "toc_cell": false,
   "toc_position": {},
   "toc_section_display": true,
   "toc_window_display": false
  }
 },
 "nbformat": 4,
 "nbformat_minor": 2
}
